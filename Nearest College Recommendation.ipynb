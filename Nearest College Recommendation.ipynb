{
 "cells": [
  {
   "cell_type": "markdown",
   "metadata": {},
   "source": [
    "# Importing Dependencies"
   ]
  },
  {
   "cell_type": "code",
   "execution_count": null,
   "metadata": {},
   "outputs": [],
   "source": [
    "import numpy as np\n",
    "%matplotlib inline\n",
    "import matplotlib.pyplot as plt\n",
    "import pandas as pd\n",
    "from sklearn.metrics import accuracy_score\n",
    "from sklearn.model_selection import train_test_split\n",
    "from sklearn.preprocessing import StandardScaler\n",
    "from sklearn.neighbors import KNeighborsClassifier\n",
    "from sklearn.metrics import classification_report, confusion_matrix\n",
    "import time\n",
    "import math\n",
    "from random import randint\n",
    "import random\n",
    "import pickle"
   ]
  },
  {
   "cell_type": "markdown",
   "metadata": {},
   "source": [
    "# Importing and Describing Dataset"
   ]
  },
  {
   "cell_type": "code",
   "execution_count": null,
   "metadata": {},
   "outputs": [],
   "source": [
    "path = \"college_details.csv\"\n",
    "dataset = pd.read_csv(path)"
   ]
  },
  {
   "cell_type": "code",
   "execution_count": null,
   "metadata": {},
   "outputs": [],
   "source": [
    "dataset.head(5)"
   ]
  },
  {
   "cell_type": "code",
   "execution_count": null,
   "metadata": {},
   "outputs": [],
   "source": [
    "dataset.tail(5)"
   ]
  },
  {
   "cell_type": "code",
   "execution_count": null,
   "metadata": {},
   "outputs": [],
   "source": [
    "dataset.shape"
   ]
  },
  {
   "cell_type": "code",
   "execution_count": null,
   "metadata": {},
   "outputs": [],
   "source": [
    "dataset.describe()"
   ]
  },
  {
   "cell_type": "code",
   "execution_count": null,
   "metadata": {},
   "outputs": [],
   "source": [
    "dataset.groupby('Lable').size()"
   ]
  },
  {
   "cell_type": "markdown",
   "metadata": {},
   "source": [
    "# Ploting Dataset"
   ]
  },
  {
   "cell_type": "code",
   "execution_count": null,
   "metadata": {},
   "outputs": [],
   "source": [
    "colors = []\n",
    "data_lat = []\n",
    "data_lon = []\n",
    "for i, row in dataset.iterrows():\n",
    "    data_lat.append(row[\"Lat\"])\n",
    "    data_lon.append(row[\"Lon\"])\n",
    "    colors.append(randint(0,100))"
   ]
  },
  {
   "cell_type": "code",
   "execution_count": null,
   "metadata": {},
   "outputs": [],
   "source": [
    "plt.figure(figsize=(40,40))\n",
    "plt.scatter(data_lon, data_lat, c=colors, cmap='nipy_spectral')\n",
    "plt.title('Location of Colleges in India', fontsize=40)\n",
    "plt.xlabel('Longitude', fontsize=30)\n",
    "plt.ylabel(\"Latitude\", fontsize=30)\n",
    "plt.show()"
   ]
  },
  {
   "cell_type": "markdown",
   "metadata": {},
   "source": [
    "# Spliting and Training"
   ]
  },
  {
   "cell_type": "code",
   "execution_count": null,
   "metadata": {},
   "outputs": [],
   "source": [
    "#Selecting feature and lable column\n",
    "feature_columns = ['Lat','Lon']\n",
    "X = dataset[feature_columns].values\n",
    "y = dataset['Lable'].values"
   ]
  },
  {
   "cell_type": "code",
   "execution_count": null,
   "metadata": {},
   "outputs": [],
   "source": [
    "#Spliting Training and Testing dataset in 7:3\n",
    "X_train, X_test, y_train, y_test = train_test_split(X, y, test_size=0.30)\n",
    "# print(X_train)\n",
    "# print(y_test)\n",
    "\n",
    "scaler = StandardScaler()\n",
    "scaler.fit(X_train)\n",
    "\n",
    "X_train = scaler.transform(X_train)\n",
    "X_test = scaler.transform(X_test)\n",
    "\n",
    "#Taking nearest neighbor as 1\n",
    "classifier = KNeighborsClassifier(n_neighbors= 1)\n",
    "classifier.fit(X_train, y_train)\n",
    "\n",
    "y_pred = classifier.predict(X_test)"
   ]
  },
  {
   "cell_type": "code",
   "execution_count": null,
   "metadata": {},
   "outputs": [],
   "source": [
    "#Confusion Matrix\n",
    "confusion_matrix(y_test, y_pred)"
   ]
  },
  {
   "cell_type": "code",
   "execution_count": null,
   "metadata": {
    "scrolled": true
   },
   "outputs": [],
   "source": [
    "#Classification Report\n",
    "print(classification_report(y_test, y_pred))"
   ]
  },
  {
   "cell_type": "code",
   "execution_count": null,
   "metadata": {},
   "outputs": [],
   "source": [
    "#Accuracy\n",
    "accuracy = accuracy_score(y_test, y_pred)*100\n",
    "print('Accuracy of our model is equal ' + str(round(accuracy, 2)) + ' %.')"
   ]
  },
  {
   "cell_type": "code",
   "execution_count": null,
   "metadata": {},
   "outputs": [],
   "source": [
    "#Calculating error for K values between 1 and 40\n",
    "error = []\n",
    "for i in range(1, 40):\n",
    "    knn = KNeighborsClassifier(n_neighbors=i)\n",
    "    knn.fit(X_train, y_train)\n",
    "    pred_i = knn.predict(X_test)\n",
    "    res = knn.score(X_test,y_test).item()\n",
    "    error.append(np.mean(pred_i != y_test))\n",
    "\n",
    "#Printing Minimum error\n",
    "print(min(error))"
   ]
  },
  {
   "cell_type": "code",
   "execution_count": null,
   "metadata": {},
   "outputs": [],
   "source": [
    "#Finding optimal number of neighbor\n",
    "\n",
    "plt.figure(figsize=(12, 6))\n",
    "plt.plot(range(1, 40), error, color='red', linestyle='dashed', marker='o', markerfacecolor='blue', markersize=10)\n",
    "plt.title('Error Rate K Value')\n",
    "plt.xlabel('K Value')\n",
    "plt.ylabel('Mean Error')"
   ]
  },
  {
   "cell_type": "code",
   "execution_count": null,
   "metadata": {},
   "outputs": [],
   "source": [
    "best_k = range(1, 40)[error.index(min(error))]\n",
    "print(\"The optimal number of neighbors is %d.\" % best_k)"
   ]
  },
  {
   "cell_type": "markdown",
   "metadata": {},
   "source": [
    "# Converting our  trained model into executable model"
   ]
  },
  {
   "cell_type": "code",
   "execution_count": null,
   "metadata": {},
   "outputs": [],
   "source": [
    "with open ('nearest_college_model', 'wb') as f:\n",
    "    pickle.dump(knn, f)"
   ]
  },
  {
   "cell_type": "code",
   "execution_count": null,
   "metadata": {},
   "outputs": [],
   "source": [
    "with open ('nearest_college_model', 'rb') as f:\n",
    "    model = pickle.load(f)"
   ]
  },
  {
   "cell_type": "markdown",
   "metadata": {},
   "source": [
    "# Predicition of Nearest Colleges"
   ]
  },
  {
   "cell_type": "code",
   "execution_count": null,
   "metadata": {},
   "outputs": [],
   "source": [
    "def nearest_college(name):\n",
    "    try:\n",
    "        path = \"college_details.csv\"\n",
    "        dataset = pd.read_csv(path)\n",
    "        df = dataset.loc[dataset['Name'] == name.strip()]\n",
    "        info=name.split(\",\")\n",
    "        city=info[-1].strip()\n",
    "        \n",
    "        lat = float(df[\"LatX\"])\n",
    "        lon = float(df[\"LonX\"])\n",
    "\n",
    "        pred = model.predict([[lat, lon]])\n",
    "\n",
    "        df2 = dataset.loc[dataset['Lable'] == pred[0]]\n",
    "        df1 = df2.loc[dataset[\"City\"] == city]\n",
    "        college_list = {}\n",
    "        if len(df1)<15:\n",
    "            df1=df2\n",
    "        \n",
    "        try:\n",
    "            for i, row in df1.iterrows():\n",
    "                dis = math.sqrt((lat-row[\"Lat\"])**2 + (lon-row[\"Lon\"])**2)\n",
    "                if row[\"Name\"]==name.strip():\n",
    "                    pass\n",
    "                elif (len(college_list)<16 and row[\"Name\"]!=name.strip()) and city==row[\"City\"]:\n",
    "                    college_list[row[\"Name\"]] = dis\n",
    "                else:\n",
    "                    col_name = max(college_list, key=college_list.get)\n",
    "                    if dis < college_list[col_name] and row[\"Name\"]!=name.strip() and city==row[\"City\"]:\n",
    "                        del college_list[max(college_list, key=college_list.get)]\n",
    "                        college_list[row[\"Name\"]] = math.sqrt((lat-row[\"Lat\"])**2 + (lon-row[\"Lon\"])**2)\n",
    "                    else: \n",
    "                        pass\n",
    "        finally:\n",
    "            keys = list(college_list.keys())\n",
    "            random.shuffle(keys)\n",
    "            final_list = []\n",
    "            for key in keys[0:5]:\n",
    "                final_list.append(key)\n",
    "            return final_list\n",
    "    \n",
    "    except Exception as e:\n",
    "        print(e)\n",
    "        return False"
   ]
  },
  {
   "cell_type": "code",
   "execution_count": null,
   "metadata": {},
   "outputs": [],
   "source": [
    "nearest_college(input(\"Enter: \"))"
   ]
  },
  {
   "cell_type": "code",
   "execution_count": null,
   "metadata": {},
   "outputs": [],
   "source": [
    "# Sample Colleges name\n",
    "# JSS ACADEMY OF TECHNICAL EDUCATION, BANGALORE URBAN\n",
    "# JSS ACADEMY OF TECHNICAL EDUCATION, GAUTAM BUDDHA NAGAR\n",
    "# AJAY KUMAR GARG ENGINEERING COLLEGE, GHAZIABAD\n",
    "# INDERPRASTHA ENGINEERING COLLEGE, GHAZIABAD\n",
    "# HITECH INSTITUTE, GHAZIABAD"
   ]
  }
 ],
 "metadata": {
  "kernelspec": {
   "display_name": "Python 3",
   "language": "python",
   "name": "python3"
  },
  "language_info": {
   "codemirror_mode": {
    "name": "ipython",
    "version": 3
   },
   "file_extension": ".py",
   "mimetype": "text/x-python",
   "name": "python",
   "nbconvert_exporter": "python",
   "pygments_lexer": "ipython3",
   "version": "3.8.5"
  }
 },
 "nbformat": 4,
 "nbformat_minor": 4
}
